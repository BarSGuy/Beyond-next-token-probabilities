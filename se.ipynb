{
 "cells": [
  {
   "cell_type": "code",
   "execution_count": 3,
   "id": "897c65b9",
   "metadata": {},
   "outputs": [],
   "source": [
    "import glob\n",
    "import pickle\n",
    "from sklearn.metrics import auc, roc_curve\n",
    "import os\n",
    "import numpy as np"
   ]
  },
  {
   "cell_type": "code",
   "execution_count": 20,
   "id": "5c9f8126",
   "metadata": {},
   "outputs": [
    {
     "name": "stdout",
     "output_type": "stream",
     "text": [
      "[i] Opening semantic_entropy_results/semantic_entropy__movies_test__10000__meta-llama_Meta-Llama-3-8B-Instruct__10__deberta__True__True__0/2534.pkl ...                          \n",
      "[i] Parsed 206 files.\n",
      "\n",
      "\n",
      "AUROC:                                    0.5724\n",
      "RUNTIMES:\n",
      "  - auxiliary generation:                 8.01 ± 1.36\n",
      "  - clustering:                           4.54 ± 1.53\n",
      "  - SE calculation (includes clust.):     4.54 ± 1.53\n",
      "-----------------------------------------------------------------------\n",
      "overall:                                  12.55±2.44\n"
     ]
    }
   ],
   "source": [
    "folder = \"semantic_entropy_results/semantic_entropy__movies_test__10000__meta-llama_Meta-Llama-3-8B-Instruct__10__deberta__True__True__0\"\n",
    "\n",
    "all_labels = list()\n",
    "all_predictions = list()\n",
    "gen_times = list()\n",
    "clust_times = list()\n",
    "se_times = list()\n",
    "times = list()\n",
    "for file in glob.glob(os.path.join(folder, '*.pkl')):\n",
    "    print(f'\\r[i] Opening {file} ...', end='                          ')\n",
    "    with open(file, 'rb') as handle:\n",
    "        tup = pickle.load(handle)\n",
    "        all_labels.append(tup[3])\n",
    "        all_predictions.append(-tup[0])\n",
    "        gen_times.append(tup[6])\n",
    "        clust_times.append(tup[7])\n",
    "        se_times.append(tup[8])\n",
    "        times.append(tup[6]+tup[8])\n",
    "print(f'\\n[i] Parsed {len(all_predictions)} files.')\n",
    "fpr, tpr, _ = roc_curve(np.array(all_labels, dtype=bool), np.array(all_predictions))\n",
    "rocauc = auc(fpr, tpr)\n",
    "print(f'\\n\\nAUROC:                                    {rocauc:.4f}')\n",
    "print(\"RUNTIMES:\")\n",
    "print(f\"  - auxiliary generation:                 {np.mean(gen_times):.2f} ± {np.std(gen_times):.2f}\")\n",
    "print(f\"  - clustering:                           {np.mean(clust_times):.2f} ± {np.std(clust_times):.2f}\")\n",
    "print(f\"  - SE calculation (includes clust.):     {np.mean(se_times):.2f} ± {np.std(se_times):.2f}\")\n",
    "print(\"-----------------------------------------------------------------------\")\n",
    "print(f\"overall:                                  {np.mean(times):.2f}±{np.std(times):.2f}\")\n"
   ]
  },
  {
   "cell_type": "code",
   "execution_count": null,
   "id": "2e2122e6",
   "metadata": {},
   "outputs": [],
   "source": []
  }
 ],
 "metadata": {
  "kernelspec": {
   "display_name": "semantic_entropy",
   "language": "python",
   "name": "python3"
  },
  "language_info": {
   "codemirror_mode": {
    "name": "ipython",
    "version": 3
   },
   "file_extension": ".py",
   "mimetype": "text/x-python",
   "name": "python",
   "nbconvert_exporter": "python",
   "pygments_lexer": "ipython3",
   "version": "3.10.18"
  }
 },
 "nbformat": 4,
 "nbformat_minor": 5
}
